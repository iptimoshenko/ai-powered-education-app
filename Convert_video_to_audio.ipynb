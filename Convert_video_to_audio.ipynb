{
  "nbformat": 4,
  "nbformat_minor": 0,
  "metadata": {
    "colab": {
      "provenance": [],
      "authorship_tag": "ABX9TyMOQScToZW6HD24a7YimhD6",
      "include_colab_link": true
    },
    "kernelspec": {
      "name": "python3",
      "display_name": "Python 3"
    },
    "language_info": {
      "name": "python"
    }
  },
  "cells": [
    {
      "cell_type": "markdown",
      "metadata": {
        "id": "view-in-github",
        "colab_type": "text"
      },
      "source": [
        "<a href=\"https://colab.research.google.com/github/iptimoshenko/ai-powered-education-app/blob/main/Convert_video_to_audio.ipynb\" target=\"_parent\"><img src=\"https://colab.research.google.com/assets/colab-badge.svg\" alt=\"Open In Colab\"/></a>"
      ]
    },
    {
      "cell_type": "markdown",
      "source": [
        "\n",
        "\n",
        "```\n",
        "# This code converts all video files in a folder to audio and saves audio version in a specified folder.\n",
        "```\n",
        "\n"
      ],
      "metadata": {
        "id": "l0_k4coIUiuL"
      }
    },
    {
      "cell_type": "code",
      "source": [
        "!pip install moviepy\n",
        "!pip install pydrive"
      ],
      "metadata": {
        "id": "SbTMA4zLKJzr"
      },
      "execution_count": null,
      "outputs": []
    },
    {
      "cell_type": "code",
      "source": [
        "import os\n",
        "import pandas as pd\n",
        "# Import necessary libraries\n",
        "from google.colab import drive\n",
        "from moviepy.editor import *\n",
        "import os\n",
        "\n",
        "# Mount Google Drive\n",
        "drive.mount('/content/drive')"
      ],
      "metadata": {
        "id": "1Drk44Z2TXws"
      },
      "execution_count": null,
      "outputs": []
    },
    {
      "cell_type": "code",
      "source": [
        "# Define the path for the video files and the path to save audio files\n",
        "video_folder_path = '/content/drive/My Drive/Yoga_of_Sex/CSB/Module_1'  # Change to your video folder path\n",
        "audio_folder_path = '/content/drive/My Drive/Yoga_of_Sex/CSB/Module_1/audio_converted'  # Change to your desired audio folder path\n",
        "\n",
        "# Ensure the audio folder exists\n",
        "if not os.path.exists(audio_folder_path):\n",
        "    os.makedirs(audio_folder_path)\n",
        "# Filter out video files\n",
        "video_files = [file for file in os.listdir(video_folder_path) if file.endswith('.mp4') or file.endswith('.mkv') or file.endswith('.wmv') or file.endswith('.mov')]\n",
        "\n",
        "# Convert videos to audio\n",
        "for video_file in video_files:\n",
        "    video_path = os.path.join(video_folder_path, video_file)\n",
        "    audio_path = os.path.join(audio_folder_path, video_file[:-4]+'.wav')\n",
        "\n",
        "    video = VideoFileClip(video_path)\n",
        "    audio = video.audio\n",
        "    audio.write_audiofile(audio_path)\n",
        "\n",
        "    audio.close()\n",
        "    video.close()\n",
        "\n",
        "print(\"Conversion completed.\")\n"
      ],
      "metadata": {
        "id": "EQZ_YhTTT2dV"
      },
      "execution_count": null,
      "outputs": []
    }
  ]
}