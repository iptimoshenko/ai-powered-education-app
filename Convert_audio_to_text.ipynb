{
  "nbformat": 4,
  "nbformat_minor": 0,
  "metadata": {
    "colab": {
      "provenance": [],
      "authorship_tag": "ABX9TyNk2uQJryG00saaeFOyQw0V",
      "include_colab_link": true
    },
    "kernelspec": {
      "name": "python3",
      "display_name": "Python 3"
    },
    "language_info": {
      "name": "python"
    }
  },
  "cells": [
    {
      "cell_type": "markdown",
      "metadata": {
        "id": "view-in-github",
        "colab_type": "text"
      },
      "source": [
        "<a href=\"https://colab.research.google.com/github/iptimoshenko/ai-powered-education-app/blob/main/Convert_audio_to_text.ipynb\" target=\"_parent\"><img src=\"https://colab.research.google.com/assets/colab-badge.svg\" alt=\"Open In Colab\"/></a>"
      ]
    },
    {
      "cell_type": "code",
      "execution_count": null,
      "metadata": {
        "id": "4ukILDH1HA23"
      },
      "outputs": [],
      "source": [
        "# Step 1: Mount Google Drive\n",
        "from google.colab import drive\n",
        "drive.mount('/content/drive')\n",
        "\n",
        "# Step 2: Set up Google Cloud Storage and Google Speech-to-Text API\n",
        "# You will need to set up Google Cloud credentials and install necessary libraries\n",
        "# Refer to Google Cloud documentation for detailed setup instructions\n",
        "\n",
        "# Assuming you have the Google Cloud SDK and necessary libraries installed\n",
        "from google.cloud import storage\n",
        "from google.cloud import speech_v1p1beta1 as speech\n",
        "import os\n",
        "import json\n",
        "\n",
        "# Set your Google Cloud credentials\n",
        "os.environ['GOOGLE_APPLICATION_CREDENTIALS'] = 'path_to_your_google_cloud_credentials.json'\n",
        "\n",
        "# Initialize Google Cloud Storage and Speech-to-Text clients\n",
        "storage_client = storage.Client()\n",
        "speech_client = speech.SpeechClient()\n",
        "\n",
        "# Function to upload file to Google Cloud Storage\n",
        "def upload_blob(bucket_name, source_file_name, destination_blob_name):\n",
        "    bucket = storage_client.bucket(bucket_name)\n",
        "    blob = bucket.blob(destination_blob_name)\n",
        "    blob.upload_from_filename(source_file_name)\n",
        "\n",
        "# Function to transcribe audio file\n",
        "def transcribe_audio(gcs_uri):\n",
        "    audio = speech.RecognitionAudio(uri=gcs_uri)\n",
        "    config = speech.RecognitionConfig(\n",
        "        encoding=speech.RecognitionConfig.AudioEncoding.LINEAR16,\n",
        "        sample_rate_hertz=16000,\n",
        "        language_code=\"en-US\",\n",
        "        enable_automatic_punctuation=True\n",
        "    )\n",
        "\n",
        "    operation = speech_client.long_running_recognize(config=config, audio=audio)\n",
        "    response = operation.result(timeout=90)\n",
        "\n",
        "    # Extracting text from response\n",
        "    transcript = \"\"\n",
        "    for result in response.results:\n",
        "        transcript += result.alternatives[0].transcript + \"\\n\"\n",
        "\n",
        "    return transcript\n",
        "\n",
        "# Step 3: Process files incrementally\n",
        "# Assuming you have a list of file paths in your Google Drive folder\n",
        "audio_files = ['path_to_your_audio_file1.wav', 'path_to_your_audio_file2.wav', ...]\n",
        "\n",
        "# Process 59 minutes per day\n",
        "time_processed_today = 0\n",
        "max_daily_processing_time = 59 * 60  # 59 minutes in seconds\n",
        "\n",
        "for file_path in audio_files:\n",
        "    # Check if time limit is reached\n",
        "    if time_processed_today >= max_daily_processing_time:\n",
        "        break\n",
        "\n",
        "    # Upload the file to Google Cloud Storage\n",
        "    # You need to define the bucket name and create a unique blob name for each file\n",
        "    bucket_name = 'your_bucket_name'\n",
        "    blob_name = os.path.basename(file_path)\n",
        "    upload_blob(bucket_name, file_path, blob_name)\n",
        "\n",
        "    # Transcribe the audio file\n",
        "    gcs_uri = f'gs://{bucket_name}/{blob_name}'\n",
        "    text_output = transcribe_audio(gcs_uri)\n",
        "\n",
        "    # Save the output in JSON format in another folder on Google Drive\n",
        "    output_path = '/content/drive/My Drive/your_output_folder/' + blob_name.replace('.wav', '.json')\n",
        "    with open(output_path, 'w') as json_file:\n",
        "        json.dump({'transcript': text_output}, json_file)\n",
        "\n",
        "    # Update time processed today\n",
        "    # You will need to calculate the duration of the current audio file\n",
        "    # and add it to time_processed_today\n",
        "\n",
        "# Step 4: Implement File Splitting and Naming Convention\n",
        "# If a file's duration exceeds the remaining processing time for the day,\n",
        "# split the file, process the allowable part, and continue with the rest the next day.\n",
        "# Use a naming convention like 'filename_1', 'filename_2', etc., for split files.\n"
      ]
    }
  ]
}